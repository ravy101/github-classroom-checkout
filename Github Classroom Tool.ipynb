{
 "cells": [
  {
   "cell_type": "markdown",
   "metadata": {},
   "source": [
    "# Github Classroom Workshop Checkout Tool\n",
    "\n",
    "This notebook provides a tool to checkout all of the student github repositories for one or more workshops.  It\n",
    "assumes that you have password-less checkout configured for github using a public/private key pair.  \n",
    "\n",
    "\n",
    "It requires two files to drive the process:\n",
    "* The gradebook downloaded from iLearn as a CSV file (in gradebook, choose _Export_ and then choose _Plain Text File_.   \n",
    "* The Github Classroom roster, downloaded from Github Classroom\n",
    "\n",
    "These should be saved in the same directory as this notebook.\n",
    "\n",
    "The code below will then checkout each github repository and store it in a directory named for the workshop and a subdirectory named for the student ID.  Eg. `submissions/Workshop_1|FRI|01:00PM|C13/46457771`.  If you run this a second time, and the repository already exists, it will just do a pull from Github to update the repository with more recent work.  \n",
    "\n",
    "Once either the checkout or pull is complete, the script runs `nbconvert` on all notebook files in the repository to convert them to HTML.  It then outputs a list of links to the HTML files in the notebook below.  You can click on each link and it will be opened in a new window.   This should be quicker than opening the notebook file itself. \n",
    "\n",
    "I've included a list of all workshop names just for reference, choose your workshops from this list and update the config.\n"
   ]
  },
  {
   "cell_type": "code",
   "execution_count": 1,
   "metadata": {},
   "outputs": [
    {
     "name": "stdout",
     "output_type": "stream",
     "text": [
      ".................................................."
     ]
    },
    {
     "data": {
      "text/html": [
       "<p>45487626</p><ul><li><a target='new' href='submissions/Workshop_1|FRI|01:00PM|C13/45487626/Workshop Week 1.html'>submissions/Workshop_1|FRI|01:00PM|C13/45487626/Workshop Week 1.html</a></li></ul><p>45783187</p><ul><li><a target='new' href='submissions/Workshop_1|FRI|01:00PM|C13/45783187/Workshop Week 1.html'>submissions/Workshop_1|FRI|01:00PM|C13/45783187/Workshop Week 1.html</a></li></ul><p>46463038</p><ul><li><a target='new' href='submissions/Workshop_1|FRI|01:00PM|C13/46463038/Workshop Week 1.html'>submissions/Workshop_1|FRI|01:00PM|C13/46463038/Workshop Week 1.html</a></li></ul><p>46115854</p><ul><li><a target='new' href='submissions/Workshop_1|FRI|01:00PM|C13/46115854/Workshop Week 1.html'>submissions/Workshop_1|FRI|01:00PM|C13/46115854/Workshop Week 1.html</a></li></ul><p>46991700</p><ul><li><a target='new' href='submissions/Workshop_1|TUE|11:00AM|C01/46991700/Workshop Week 1.html'>submissions/Workshop_1|TUE|11:00AM|C01/46991700/Workshop Week 1.html</a></li></ul><p>44917767 has no Github ID</p><p>46576983</p><ul><li><a target='new' href='submissions/Workshop_1|TUE|11:00AM|C01/46576983/Workshop Week 1.html'>submissions/Workshop_1|TUE|11:00AM|C01/46576983/Workshop Week 1.html</a></li></ul><p>46451412</p><ul><li><a target='new' href='submissions/Workshop_1|TUE|11:00AM|C01/46451412/Workshop Week 1.html'>submissions/Workshop_1|TUE|11:00AM|C01/46451412/Workshop Week 1.html</a></li></ul><p>46457852 has no Github ID</p><p>45381127</p><ul><li><a target='new' href='submissions/Workshop_1|FRI|01:00PM|C13/45381127/Workshop Week 1.html'>submissions/Workshop_1|FRI|01:00PM|C13/45381127/Workshop Week 1.html</a></li></ul><p>45970726</p><ul><li><a target='new' href='submissions/Workshop_1|FRI|01:00PM|C13/45970726/Workshop Week 1.html'>submissions/Workshop_1|FRI|01:00PM|C13/45970726/Workshop Week 1.html</a></li></ul><p>45942358</p><ul><li><a target='new' href='submissions/Workshop_1|TUE|11:00AM|C01/45942358/Workshop Week 1.html'>submissions/Workshop_1|TUE|11:00AM|C01/45942358/Workshop Week 1.html</a></li></ul><p>45152624</p><ul><li><a target='new' href='submissions/Workshop_1|TUE|11:00AM|C01/45152624/Workshop Week 1.html'>submissions/Workshop_1|TUE|11:00AM|C01/45152624/Workshop Week 1.html</a></li></ul><p>45941246</p><ul><li><a target='new' href='submissions/Workshop_1|TUE|11:00AM|C01/45941246/Workshop Week 1.html'>submissions/Workshop_1|TUE|11:00AM|C01/45941246/Workshop Week 1.html</a></li></ul><p>47120789</p><ul><li><a target='new' href='submissions/Workshop_1|TUE|11:00AM|C01/47120789/Workshop Week 1.html'>submissions/Workshop_1|TUE|11:00AM|C01/47120789/Workshop Week 1.html</a></li></ul><p>44509669 has no Github ID</p><p>47087498</p><ul><li><a target='new' href='submissions/Workshop_1|FRI|01:00PM|C13/47087498/Workshop Week 1.html'>submissions/Workshop_1|FRI|01:00PM|C13/47087498/Workshop Week 1.html</a></li></ul><p>46471316</p><ul><li><a target='new' href='submissions/Workshop_1|TUE|11:00AM|C01/46471316/Workshop Week 1.html'>submissions/Workshop_1|TUE|11:00AM|C01/46471316/Workshop Week 1.html</a></li></ul><p>46464891</p><ul><li><a target='new' href='submissions/Workshop_1|TUE|11:00AM|C01/46464891/Workshop Week 1.html'>submissions/Workshop_1|TUE|11:00AM|C01/46464891/Workshop Week 1.html</a></li></ul><p>45411476</p><ul><li><a target='new' href='submissions/Workshop_1|TUE|11:00AM|C01/45411476/Workshop Week 1.html'>submissions/Workshop_1|TUE|11:00AM|C01/45411476/Workshop Week 1.html</a></li></ul><p>45653240 has no Github ID</p><p>46023569</p><ul><li><a target='new' href='submissions/Workshop_1|FRI|01:00PM|C13/46023569/Workshop Week 1.html'>submissions/Workshop_1|FRI|01:00PM|C13/46023569/Workshop Week 1.html</a></li><li><a target='new' href='submissions/Workshop_1|FRI|01:00PM|C13/46023569/Workshop Week 2.html'>submissions/Workshop_1|FRI|01:00PM|C13/46023569/Workshop Week 2.html</a></li></ul><p>45813884</p><ul><li><a target='new' href='submissions/Workshop_1|FRI|01:00PM|C13/45813884/Workshop Week 1.html'>submissions/Workshop_1|FRI|01:00PM|C13/45813884/Workshop Week 1.html</a></li></ul><p>46775048</p><ul><li><a target='new' href='submissions/Workshop_1|FRI|01:00PM|C13/46775048/Workshop Week 1.html'>submissions/Workshop_1|FRI|01:00PM|C13/46775048/Workshop Week 1.html</a></li></ul><p>45697795</p><ul><li><a target='new' href='submissions/Workshop_1|TUE|11:00AM|C01/45697795/Workshop Week 1.html'>submissions/Workshop_1|TUE|11:00AM|C01/45697795/Workshop Week 1.html</a></li></ul><p>46462732</p><ul><li><a target='new' href='submissions/Workshop_1|TUE|11:00AM|C01/46462732/Workshop Week 1.html'>submissions/Workshop_1|TUE|11:00AM|C01/46462732/Workshop Week 1.html</a></li></ul><p>47111941</p><ul><li><a target='new' href='submissions/Workshop_1|TUE|11:00AM|C01/47111941/Workshop Week 1.html'>submissions/Workshop_1|TUE|11:00AM|C01/47111941/Workshop Week 1.html</a></li></ul><p>46845577</p><ul><li><a target='new' href='submissions/Workshop_1|TUE|11:00AM|C01/46845577/Workshop Week 1.html'>submissions/Workshop_1|TUE|11:00AM|C01/46845577/Workshop Week 1.html</a></li></ul><p>46346791</p><ul><li><a target='new' href='submissions/Workshop_1|TUE|11:00AM|C01/46346791/Workshop Week 1.html'>submissions/Workshop_1|TUE|11:00AM|C01/46346791/Workshop Week 1.html</a></li></ul><p>45965323 has no Github ID</p><p>46988165</p><ul><li><a target='new' href='submissions/Workshop_1|FRI|01:00PM|C13/46988165/Workshop Week 1.html'>submissions/Workshop_1|FRI|01:00PM|C13/46988165/Workshop Week 1.html</a></li></ul><p>42440610</p><ul><li><a target='new' href='submissions/Workshop_1|FRI|01:00PM|C13/42440610/Workshop Week 1.html'>submissions/Workshop_1|FRI|01:00PM|C13/42440610/Workshop Week 1.html</a></li></ul><p>45438412</p><ul><li><a target='new' href='submissions/Workshop_1|FRI|01:00PM|C13/45438412/Workshop Week 1.html'>submissions/Workshop_1|FRI|01:00PM|C13/45438412/Workshop Week 1.html</a></li></ul><p>44919867</p><ul><li><a target='new' href='submissions/Workshop_1|FRI|01:00PM|C13/44919867/Workshop Week 1.html'>submissions/Workshop_1|FRI|01:00PM|C13/44919867/Workshop Week 1.html</a></li></ul><p>45195463</p><ul><li><a target='new' href='submissions/Workshop_1|FRI|01:00PM|C13/45195463/Workshop Week 1.html'>submissions/Workshop_1|FRI|01:00PM|C13/45195463/Workshop Week 1.html</a></li></ul><p>45156417</p><ul><li><a target='new' href='submissions/Workshop_1|TUE|11:00AM|C01/45156417/Workshop Week 1.html'>submissions/Workshop_1|TUE|11:00AM|C01/45156417/Workshop Week 1.html</a></li></ul><p>44588089 has no Github ID</p><p>46609172 has no Github ID</p><p>46457771</p><ul><li><a target='new' href='submissions/Workshop_1|FRI|01:00PM|C13/46457771/Workshop Week 1.html'>submissions/Workshop_1|FRI|01:00PM|C13/46457771/Workshop Week 1.html</a></li></ul><p>46416358</p><ul><li><a target='new' href='submissions/Workshop_1|TUE|11:00AM|C01/46416358/Workshop Week 1.html'>submissions/Workshop_1|TUE|11:00AM|C01/46416358/Workshop Week 1.html</a></li></ul><p>45878803</p><ul><li><a target='new' href='submissions/Workshop_1|TUE|11:00AM|C01/45878803/Workshop Week 1.html'>submissions/Workshop_1|TUE|11:00AM|C01/45878803/Workshop Week 1.html</a></li></ul><p>45878099</p><ul><li><a target='new' href='submissions/Workshop_1|FRI|01:00PM|C13/45878099/Workshop Week 1.html'>submissions/Workshop_1|FRI|01:00PM|C13/45878099/Workshop Week 1.html</a></li></ul><p>46458980</p><ul><li><a target='new' href='submissions/Workshop_1|FRI|01:00PM|C13/46458980/Workshop Week 1.html'>submissions/Workshop_1|FRI|01:00PM|C13/46458980/Workshop Week 1.html</a></li></ul><p>45827591 has no Github ID</p><p>46233016</p><ul><li><a target='new' href='submissions/Workshop_1|FRI|01:00PM|C13/46233016/Workshop Week 1.html'>submissions/Workshop_1|FRI|01:00PM|C13/46233016/Workshop Week 1.html</a></li></ul><p>46458948 has no Github ID</p><p>45761760</p><ul><li><a target='new' href='submissions/Workshop_1|FRI|01:00PM|C13/45761760/Workshop Week 1.html'>submissions/Workshop_1|FRI|01:00PM|C13/45761760/Workshop Week 1.html</a></li></ul><p>46838155</p><ul><li><a target='new' href='submissions/Workshop_1|TUE|11:00AM|C01/46838155/Workshop Week 1.html'>submissions/Workshop_1|TUE|11:00AM|C01/46838155/Workshop Week 1.html</a></li></ul><p>46407448</p><ul><li><a target='new' href='submissions/Workshop_1|FRI|01:00PM|C13/46407448/Workshop Week 1.html'>submissions/Workshop_1|FRI|01:00PM|C13/46407448/Workshop Week 1.html</a></li></ul><p>46563784</p><ul><li><a target='new' href='submissions/Workshop_1|FRI|01:00PM|C13/46563784/Workshop Week 1.html'>submissions/Workshop_1|FRI|01:00PM|C13/46563784/Workshop Week 1.html</a></li></ul>"
      ],
      "text/plain": [
       "<IPython.core.display.HTML object>"
      ]
     },
     "execution_count": 1,
     "metadata": {},
     "output_type": "execute_result"
    }
   ],
   "source": [
    "from classroom import process\n",
    "from IPython.core.display import HTML\n",
    "\n",
    "all_workshops = ['Workshop_1|TUE|01:00PM|C02', \n",
    "                 'Workshop_1|TUE|11:00AM|C01', \n",
    "                 'Workshop_1|THU|09:00AM|C06', \n",
    "                 'Workshop_1|FRI|01:00PM|C13', \n",
    "                 'Workshop_1|FRI|11:00AM|C12', \n",
    "                 'Workshop_1|THU|01:00PM|C08', \n",
    "                 'Workshop_1|FRI|03:00PM|C14', \n",
    "                 'Workshop_1|WED|01:00PM|C03', \n",
    "                 'Workshop_1|TUE|06:00PM|C01', \n",
    "                 'Workshop_1|TUE|09:00AM|C17', \n",
    "                 'Workshop_1|THU|05:00PM|C10', \n",
    "                 'Workshop_1|MON|06:00PM|C16', \n",
    "                 'Workshop_1|THU|11:00AM|C07', \n",
    "                 'Workshop_1|WED|05:00PM|C05', \n",
    "                 'Workshop_1|TUE|06:00PM|C04', \n",
    "                 'Workshop_1|MON|04:00PM|C15', \n",
    "                 'Workshop_1|FRI|09:00AM|C11'\n",
    "                ]\n",
    "\n",
    "\n",
    "# update config as needed\n",
    "config = {\n",
    "    'github-roster': 'classroom_roster.csv',\n",
    "    'ilearn-csv': 'COMP2200_SHFYR_2021_ALL_Uwith COMP6200 Co-badged Grades-20210731_0912-comma_separated.csv',\n",
    "    'classroom': \"git@github.com:MQCOMP2200-S2-2021\",\n",
    "    'assignment': \"practical-week-1\",\n",
    "    'outdir': 'submissions',\n",
    "    'workshops': ['Workshop_1|FRI|01:00PM|C13', 'Workshop_1|TUE|11:00AM|C01']\n",
    "}\n",
    "\n",
    "\n",
    "HTML(process(config))"
   ]
  },
  {
   "cell_type": "code",
   "execution_count": null,
   "metadata": {},
   "outputs": [],
   "source": []
  }
 ],
 "metadata": {
  "kernelspec": {
   "display_name": "Python 3",
   "language": "python",
   "name": "python3"
  },
  "language_info": {
   "codemirror_mode": {
    "name": "ipython",
    "version": 3
   },
   "file_extension": ".py",
   "mimetype": "text/x-python",
   "name": "python",
   "nbconvert_exporter": "python",
   "pygments_lexer": "ipython3",
   "version": "3.8.3"
  }
 },
 "nbformat": 4,
 "nbformat_minor": 4
}
